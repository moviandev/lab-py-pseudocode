{
 "cells": [
  {
   "cell_type": "markdown",
   "metadata": {},
   "source": [
    "# LAB | Pseudocode Using Python\n",
    "\n",
    "## Overview\n",
    "\n",
    "This exercise will help you practice writing pseudocode and translating it into Python code. Pseudocode is a way to describe algorithms in a human-readable format, which can then be implemented in programming languages.\n",
    "\n"
   ]
  },
  {
   "cell_type": "markdown",
   "metadata": {},
   "source": [
    "### Exercise 1: Multiply Two Numbers\n",
    "\n",
    "Write a pseudocode to read two numbers and multiply them together. Then, write the equivalent Python code."
   ]
  },
  {
   "cell_type": "markdown",
   "metadata": {},
   "source": [
    "BEGIN\n",
    "// 1. Get the first number from the user\n",
    "PRINT \"Enter the first number:\"\n",
    "READ num1\n",
    "\n",
    "// 2. Get the second number from the user\n",
    "PRINT \"Enter the second number:\"\n",
    "READ num2\n",
    "\n",
    "// 3. Perform the calculation\n",
    "SET result TO num1 * num2\n",
    "\n",
    "// 4. Display the result\n",
    "PRINT \"The product of\", num1, \"and\", num2, \"is:\", result\n",
    "END"
   ]
  },
  {
   "cell_type": "markdown",
   "metadata": {},
   "source": [
    "<!-- Add your pseudocode here -->"
   ]
  },
  {
   "cell_type": "code",
   "execution_count": 1,
   "metadata": {},
   "outputs": [
    {
     "name": "stdout",
     "output_type": "stream",
     "text": [
      "The product of 4.0 and 5.0 is: 20.0\n"
     ]
    }
   ],
   "source": [
    "# Add your code solution here\n",
    "# This program reads two numbers from the user and multiplies them.\n",
    "\n",
    "def multiply_numbers():\n",
    "    \"\"\"\n",
    "    Asks the user for two numbers, multiplies them, and prints the result.\n",
    "    Includes error handling for invalid input.\n",
    "    \"\"\"\n",
    "    try:\n",
    "        # 1. Get the first number and convert it\n",
    "        num1_input = input(\"Enter the first number: \")\n",
    "        num1 = float(num1_input)\n",
    "        \n",
    "        # 2. Get the second number and convert it\n",
    "        num2_input = input(\"Enter the second number: \")\n",
    "        num2 = float(num2_input)\n",
    "        \n",
    "        # 3. Perform the calculation\n",
    "        result = num1 * num2\n",
    "        \n",
    "        # 4. Display the result\n",
    "        print(f\"The product of {num1} and {num2} is: {result}\")\n",
    "\n",
    "    except ValueError:\n",
    "        # Handle cases where the input isn't a valid number\n",
    "        print(\"Error: Please enter valid numbers.\")\n",
    "\n",
    "# Run the function\n",
    "multiply_numbers()\n"
   ]
  },
  {
   "cell_type": "markdown",
   "metadata": {},
   "source": [
    "### Exercise 2: Check Even or Odd\n",
    "\n",
    "Write pseudocode that checks if a number is even or odd and prints the result. Then, write the equivalent Python code."
   ]
  },
  {
   "cell_type": "markdown",
   "metadata": {},
   "source": [
    "BEGIN\n",
    "// 1. Get a number from the user\n",
    "PRINT \"Enter a number:\"\n",
    "READ number\n",
    "\n",
    "// 2. Convert the input to an integer\n",
    "SET integer_number TO integer(number)\n",
    "\n",
    "// 3. Check if the number is divisible by 2\n",
    "//    The modulo operator (%) finds the remainder of a division\n",
    "IF (integer_number % 2) is equal to 0 THEN\n",
    "// 4a. If the remainder is 0, it's even\n",
    "PRINT integer_number, \"is an even number.\"\n",
    "ELSE\n",
    "// 4b. If the remainder is not 0, it's odd\n",
    "PRINT integer_number, \"is an odd number.\"\n",
    "END IF\n",
    "END"
   ]
  },
  {
   "cell_type": "markdown",
   "metadata": {},
   "source": [
    "<!-- Add your pseudocode here -->"
   ]
  },
  {
   "cell_type": "code",
   "execution_count": 2,
   "metadata": {},
   "outputs": [
    {
     "name": "stdout",
     "output_type": "stream",
     "text": [
      "3 is an odd number.\n"
     ]
    }
   ],
   "source": [
    "# Add your code solution here\n",
    "# This program reads a number from the user and checks if it's even or odd.\n",
    "\n",
    "def check_even_odd():\n",
    "    \"\"\"\n",
    "    Asks the user for a number, checks if it is even or odd,\n",
    "    and prints the result. Includes error handling for invalid input.\n",
    "    \"\"\"\n",
    "    try:\n",
    "        # 1. Get a number from the user\n",
    "        num_input = input(\"Enter a number: \")\n",
    "        \n",
    "        # 2. Convert the input to an integer\n",
    "        number = int(num_input)\n",
    "        \n",
    "        # 3. Check if the number is divisible by 2\n",
    "        #    The modulo operator (%) finds the remainder of a division\n",
    "        if (number % 2) == 0:\n",
    "            # 4a. If the remainder is 0, it's even\n",
    "            print(f\"{number} is an even number.\")\n",
    "        else:\n",
    "            # 4b. If the remainder is not 0, it's odd\n",
    "            print(f\"{number} is an odd number.\")\n",
    "\n",
    "    except ValueError:\n",
    "        # Handle cases where the input isn't a valid integer\n",
    "        print(\"Error: Please enter a valid whole number.\")\n",
    "\n",
    "# Run the function\n",
    "check_even_odd()\n"
   ]
  },
  {
   "cell_type": "markdown",
   "metadata": {},
   "source": [
    "### Exercise 3: Sum of First N Natural Numbers\n",
    "\n",
    "Write pseudocode to calculate the sum of the first N natural numbers. Then, write the equivalent Python code."
   ]
  },
  {
   "cell_type": "markdown",
   "metadata": {},
   "source": [
    "// 3. Check if N is positive\n",
    "IF n is less than 1 THEN\n",
    "  PRINT \"Error: Please enter a number greater than 0.\"\n",
    "ELSE\n",
    "  // 4. Initialize sum\n",
    "  SET sum TO 0\n",
    "  \n",
    "  // 5. Loop from 1 to N\n",
    "  FOR i FROM 1 TO n\n",
    "    SET sum TO sum + i\n",
    "  END FOR\n",
    "  \n",
    "  // 6. Display the result\n",
    "  PRINT \"The sum of the first\", n, \"natural numbers is:\", sum\n",
    "END IF"
   ]
  },
  {
   "cell_type": "markdown",
   "metadata": {},
   "source": [
    "<!-- Add your pseudocode here -->"
   ]
  },
  {
   "cell_type": "code",
   "execution_count": 3,
   "metadata": {},
   "outputs": [
    {
     "name": "stdout",
     "output_type": "stream",
     "text": [
      "The sum of the first 3 natural numbers is: 6\n"
     ]
    }
   ],
   "source": [
    "# Add your code solution here\n",
    "# This program calculates the sum of the first N natural numbers.\n",
    "\n",
    "def sum_first_n_numbers():\n",
    "    \"\"\"\n",
    "    Asks the user for a positive number (N),\n",
    "    calculates the sum of numbers from 1 to N,\n",
    "    and prints the result. Includes error handling.\n",
    "    \"\"\"\n",
    "    try:\n",
    "        # 1. Get a number 'N' from the user\n",
    "        n_input = input(\"Enter a positive number (N): \")\n",
    "        \n",
    "        # 2. Convert the input to an integer\n",
    "        n = int(n_input)\n",
    "        \n",
    "        # 3. Check if N is positive\n",
    "        if n < 1:\n",
    "            print(\"Error: Please enter a number greater than 0.\")\n",
    "        else:\n",
    "            # 4. Initialize sum\n",
    "            total_sum = 0\n",
    "            \n",
    "            # 5. Loop from 1 to N (range's stop is exclusive, so n + 1)\n",
    "            for i in range(1, n + 1):\n",
    "                total_sum = total_sum + i\n",
    "            \n",
    "            # 6. Display the result\n",
    "            print(f\"The sum of the first {n} natural numbers is: {total_sum}\")\n",
    "\n",
    "    except ValueError:\n",
    "        # Handle cases where the input isn't a valid integer\n",
    "        print(\"Error: Please enter a valid whole number.\")\n",
    "\n",
    "# Run the function\n",
    "sum_first_n_numbers()\n"
   ]
  },
  {
   "cell_type": "markdown",
   "metadata": {},
   "source": [
    "### Exercise 4: Find Maximum of Three Numbers\n",
    "\n",
    "Write pseudocode that finds the maximum of three numbers entered by the user. Then, write the equivalent Python code."
   ]
  },
  {
   "cell_type": "markdown",
   "metadata": {},
   "source": [
    "BEGIN\n",
    "// 1. Get the numbers from the user\n",
    "PRINT \"Enter the first number:\"\n",
    "READ num1\n",
    "\n",
    "PRINT \"Enter the second number:\"\n",
    "READ num2\n",
    "\n",
    "PRINT \"Enter the third number:\"\n",
    "READ num3\n",
    "\n",
    "// 2. Validate the input\n",
    "TRY\n",
    "// Convert inputs to numbers\n",
    "SET number1 TO float(num1)\n",
    "SET number2 TO float(num2)\n",
    "SET number3 TO float(num3)\n",
    "\n",
    "// 3. Find the maximum\n",
    "// Assume the first number is the max initially\n",
    "SET max_number TO number1\n",
    "\n",
    "// Compare with the second number\n",
    "IF number2 is greater than max_number THEN\n",
    "  SET max_number TO number2\n",
    "END IF\n",
    "\n",
    "// Compare with the third number\n",
    "IF number3 is greater than max_number THEN\n",
    "  SET max_number TO number3\n",
    "END IF\n",
    "\n",
    "// 4. Display the result\n",
    "PRINT \"The maximum number is:\", max_number\n",
    "\n",
    "\n",
    "CATCH\n",
    "// Handle non-numeric input\n",
    "PRINT \"Error: Please enter valid numbers.\"\n",
    "END TRY\n",
    "END"
   ]
  },
  {
   "cell_type": "markdown",
   "metadata": {},
   "source": [
    "<!-- Add your pseudocode here -->"
   ]
  },
  {
   "cell_type": "code",
   "execution_count": 4,
   "metadata": {},
   "outputs": [
    {
     "name": "stdout",
     "output_type": "stream",
     "text": [
      "The maximum of 6.0, 3.0, and 5.0 is: 6.0\n"
     ]
    }
   ],
   "source": [
    "# Add your code solution here\n",
    "# This program finds the maximum of three numbers entered by the user.\n",
    "\n",
    "def find_max_of_three():\n",
    "    \"\"\"\n",
    "    Asks the user for three numbers, finds the maximum,\n",
    "    and prints the result. Includes error handling.\n",
    "    \"\"\"\n",
    "    try:\n",
    "        # 1. Get the numbers from the user\n",
    "        num1 = float(input(\"Enter the first number: \"))\n",
    "        num2 = float(input(\"Enter the second number: \"))\n",
    "        num3 = float(input(\"Enter the third number: \"))\n",
    "        \n",
    "        # 3. Find the maximum\n",
    "        # We can use the built-in max() function in Python\n",
    "        max_number = max(num1, num2, num3)\n",
    "        \n",
    "        # 4. Display the result\n",
    "        print(f\"The maximum of {num1}, {num2}, and {num3} is: {max_number}\")\n",
    "\n",
    "    except ValueError:\n",
    "        # Handle cases where the input isn't a valid number\n",
    "        print(\"Error: Please enter valid numbers.\")\n",
    "\n",
    "# Run the function\n",
    "find_max_of_three()\n"
   ]
  },
  {
   "cell_type": "markdown",
   "metadata": {},
   "source": [
    "### Exercise 5: Count Vowels in a String\n",
    "\n",
    "Write pseudocode to count the number of vowels in a given string and print the count. Then, write the equivalent Python code."
   ]
  },
  {
   "cell_type": "markdown",
   "metadata": {},
   "source": [
    "BEGIN\n",
    "// 1. Get a string from the user\n",
    "PRINT \"Enter a string:\"\n",
    "READ input_string\n",
    "\n",
    "// 2. Initialize vowel count\n",
    "SET vowel_count TO 0\n",
    "\n",
    "// 3. Define the vowels (both cases)\n",
    "SET vowels TO \"aeiouAEIOU\"\n",
    "\n",
    "// 4. Loop through each character in the string\n",
    "FOR each character IN input_string\n",
    "// 5. Check if the character is a vowel\n",
    "IF character is IN vowels THEN\n",
    "// 6. Increment the count\n",
    "SET vowel_count TO vowel_count + 1\n",
    "END IF\n",
    "END FOR\n",
    "\n",
    "// 7. Display the result\n",
    "PRINT \"The number of vowels in the string is:\", vowel_count\n",
    "END"
   ]
  },
  {
   "cell_type": "markdown",
   "metadata": {},
   "source": [
    "<!-- Add your pseudocode here -->"
   ]
  },
  {
   "cell_type": "code",
   "execution_count": 6,
   "metadata": {},
   "outputs": [
    {
     "name": "stdout",
     "output_type": "stream",
     "text": [
      "The number of vowels in 'saoidjiosajeqr' is: 7\n"
     ]
    }
   ],
   "source": [
    "# Add your code solution here\n",
    "# This program counts the number of vowels in a string given by the user.\n",
    "\n",
    "def count_vowels():\n",
    "    \"\"\"\n",
    "    Asks the user for a string, counts the number of vowels\n",
    "    (a, e, i, o, u, in both cases), and prints the result.\n",
    "    \"\"\"\n",
    "    \n",
    "    # 1. Get a string from the user\n",
    "    input_string = input(\"Enter a string: \")\n",
    "    \n",
    "    # 2. Initialize vowel count\n",
    "    vowel_count = 0\n",
    "    \n",
    "    # 3. Define the vowels (both cases)\n",
    "    # A set is very efficient for checking membership (e.g., 'if char in vowels:')\n",
    "    vowels = \"aeiouAEIOU\"\n",
    "    \n",
    "    # 4. Loop through each character in the string\n",
    "    for char in input_string:\n",
    "        # 5. Check if the character is a vowel\n",
    "        if char in vowels:\n",
    "            # 6. Increment the count\n",
    "            vowel_count += 1\n",
    "            \n",
    "    # 7. Display the result\n",
    "    print(f\"The number of vowels in '{input_string}' is: {vowel_count}\")\n",
    "\n",
    "# Run the function\n",
    "count_vowels()\n"
   ]
  },
  {
   "cell_type": "markdown",
   "metadata": {},
   "source": [
    "## Bonus Exercises\n",
    "\n",
    "### Bonus Exercise 6: Reverse a String\n",
    "\n",
    "Write pseudocode to reverse a given string and print it out."
   ]
  },
  {
   "cell_type": "markdown",
   "metadata": {},
   "source": [
    "BEGIN\n",
    "// 1. Get a string from the user\n",
    "PRINT \"Enter a string:\"\n",
    "READ input_string\n",
    "\n",
    "// 2. Initialize an empty string for the result\n",
    "SET reversed_string TO \"\"\n",
    "\n",
    "// 3. Loop through the input string, starting from the last character\n",
    "FOR i FROM (length of input_string - 1) DOWNTO 0\n",
    "// 4. Get the character at the current index\n",
    "SET character TO character at index i in input_string\n",
    "\n",
    "// 5. Append the character to the reversed string\n",
    "SET reversed_string TO reversed_string + character\n",
    "\n",
    "\n",
    "END FOR\n",
    "\n",
    "// 6. Display the result\n",
    "PRINT \"The reversed string is:\", reversed_string\n",
    "END"
   ]
  },
  {
   "cell_type": "markdown",
   "metadata": {},
   "source": [
    "<!-- Add your pseudocode here -->"
   ]
  },
  {
   "cell_type": "code",
   "execution_count": null,
   "metadata": {},
   "outputs": [],
   "source": [
    "# Add your code solution here\n",
    "# This program reverses a string given by the user,\n",
    "# following the logic from the pseudocode.\n",
    "\n",
    "def reverse_string_with_loop():\n",
    "    \"\"\"\n",
    "    Asks the user for a string and reverses it\n",
    "    by looping through it backwards.\n",
    "    \"\"\"\n",
    "    \n",
    "    # 1. Get a string from the user\n",
    "    input_string = input(\"Enter a string: \")\n",
    "    \n",
    "    # 2. Initialize an empty string for the result\n",
    "    reversed_string = \"\"\n",
    "    \n",
    "    # 3. Loop through the input string, starting from the last character\n",
    "    # range(start, stop, step)\n",
    "    # start = len(input_string) - 1 (this is the last index)\n",
    "    # stop = -1 (so the loop includes index 0 and stops *before* -1)\n",
    "    # step = -1 (decrement by 1)\n",
    "    for i in range(len(input_string) - 1, -1, -1):\n",
    "        \n",
    "        # 4. Get the character at the current index\n",
    "        character = input_string[i]\n",
    "        \n",
    "        # 5. Append the character to the reversed string\n",
    "        reversed_string += character\n",
    "        \n",
    "    # 6. Display the result\n",
    "    print(f\"The reversed string is: {reversed_string}\")\n",
    "\n",
    "# --- A Note on the \"Pythonic\" Way ---\n",
    "# Python has a built-in shortcut to reverse strings using slicing\n",
    "# which is much simpler:\n",
    "#\n",
    "#   reversed_string = input_string[::-1]\n",
    "#\n",
    "# We are using the loop method above to faithfully match the pseudocode.\n",
    "# ---\n",
    "\n",
    "# Run the function\n",
    "reverse_string_with_loop()\n"
   ]
  },
  {
   "cell_type": "markdown",
   "metadata": {},
   "source": [
    "### Bonus Exercise 7: Print Multiplication Table of a Number\n",
    "\n",
    "Write pseudocode to print the multiplication table of a given number up to 10."
   ]
  },
  {
   "cell_type": "markdown",
   "metadata": {},
   "source": [
    "BEGIN\n",
    "// 1. Get the number from the user\n",
    "PRINT \"Enter a number to see its multiplication table:\"\n",
    "READ number\n",
    "\n",
    "// 2. Loop from 1 up to 10\n",
    "FOR i FROM 1 TO 10\n",
    "// 3. Calculate the result\n",
    "SET result TO number * i\n",
    "\n",
    "// 4. Print the line of the table\n",
    "PRINT number, \"x\", i, \"=\", result\n",
    "\n",
    "\n",
    "END FOR\n",
    "END"
   ]
  },
  {
   "cell_type": "markdown",
   "metadata": {},
   "source": [
    "<!-- Add your pseudocode here -->"
   ]
  },
  {
   "cell_type": "code",
   "execution_count": null,
   "metadata": {},
   "outputs": [],
   "source": [
    "# Add your code solution here\n",
    "# This program prints the multiplication table of a given number up to 10.\n",
    "\n",
    "def show_multiplication_table():\n",
    "    \"\"\"\n",
    "    Asks the user for a number and prints its multiplication table from 1 to 10.\n",
    "    \"\"\"\n",
    "    \n",
    "    try:\n",
    "        # 1. Get the number from the user\n",
    "        number_input = input(\"Enter a number to see its multiplication table: \")\n",
    "        \n",
    "        # Convert the input string to a number (integer)\n",
    "        number = int(number_input)\n",
    "        \n",
    "        print(f\"--- Multiplication Table for {number} ---\")\n",
    "        \n",
    "        # 2. Loop from 1 up to 10 (range(1, 11) goes from 1 up to, but not including, 11)\n",
    "        for i in range(1, 11):\n",
    "            \n",
    "            # 3. Calculate the result\n",
    "            result = number * i\n",
    "            \n",
    "            # 4. Print the line of the table\n",
    "            # We use f-string formatting to align the output neatly\n",
    "            # {i:2} means \"format i to take up 2 spaces\"\n",
    "            # {result:3} means \"format result to take up 3 spaces\"\n",
    "            print(f\"{number} x {i:2} = {result}\")\n",
    "            \n",
    "    except ValueError:\n",
    "        # Handle cases where the user does not enter a valid integer\n",
    "        print(f\"Error: '{number_input}' is not a valid number. Please enter an integer.\")\n",
    "\n",
    "# Run the function\n",
    "show_multiplication_table()\n"
   ]
  },
  {
   "cell_type": "markdown",
   "metadata": {},
   "source": [
    "### Bonus Exercise 8: Count Words in a String\n",
    "\n",
    "Write pseudocode that counts the words in a given string and prints the result."
   ]
  },
  {
   "cell_type": "markdown",
   "metadata": {},
   "source": [
    "BEGIN\n",
    "// 1. Get a string from the user\n",
    "PRINT \"Enter a string to count the words:\"\n",
    "READ input_string\n",
    "\n",
    "// 2. Split the string into a list of words.\n",
    "// The split operation should automatically handle various spaces.\n",
    "SET word_list TO split input_string by spaces\n",
    "\n",
    "// 3. Count the number of items in the list\n",
    "SET word_count TO length of word_list\n",
    "\n",
    "// 4. Display the result\n",
    "PRINT \"The total word count is:\", word_count\n",
    "END"
   ]
  },
  {
   "cell_type": "markdown",
   "metadata": {},
   "source": [
    "<!-- Add your pseudocode here -->"
   ]
  },
  {
   "cell_type": "code",
   "execution_count": null,
   "metadata": {},
   "outputs": [],
   "source": [
    "# Add your code solution here\n",
    "# This program counts the number of words in a given string.\n",
    "\n",
    "def count_words():\n",
    "    \"\"\"\n",
    "    Asks the user for a string, splits it into words,\n",
    "    and prints the total word count.\n",
    "    \"\"\"\n",
    "    \n",
    "    # 1. Get a string from the user\n",
    "    input_string = input(\"Enter a string to count the words: \")\n",
    "    \n",
    "    # 2. Split the string into a list of words.\n",
    "    # .split() with no arguments automatically handles:\n",
    "    # - splitting by any whitespace (spaces, tabs, newlines)\n",
    "    # - handling multiple spaces in a row\n",
    "    # - ignoring leading/trailing whitespace\n",
    "    word_list = input_string.split()\n",
    "    \n",
    "    # 3. Count the number of items in the list\n",
    "    word_count = len(word_list)\n",
    "    \n",
    "    # 4. Display the result\n",
    "    print(f\"The total word count is: {word_count}\")\n",
    "\n",
    "# Run the function\n",
    "count_words()\n"
   ]
  },
  {
   "cell_type": "markdown",
   "metadata": {},
   "source": [
    "### Bonus Exercise 9: Find Factorial of a Number\n",
    "\n",
    "Write pseudocode that calculates the factorial of a given positive integer."
   ]
  },
  {
   "cell_type": "markdown",
   "metadata": {},
   "source": [
    "BEGIN\n",
    "// 1. Get a positive integer from the user\n",
    "PRINT \"Enter a positive integer:\"\n",
    "READ n\n",
    "\n",
    "// 2. Handle invalid input (negative numbers)\n",
    "IF n < 0 THEN\n",
    "PRINT \"Factorial is not defined for negative numbers.\"\n",
    "\n",
    "// 3. Handle the base case (factorial of 0 is 1)\n",
    "ELSE IF n == 0 THEN\n",
    "PRINT \"The factorial of 0 is 1.\"\n",
    "\n",
    "// 4. Calculate the factorial for a positive number\n",
    "ELSE\n",
    "// Initialize the result variable\n",
    "SET factorial TO 1\n",
    "\n",
    "// Loop from 1 up to n\n",
    "FOR i FROM 1 TO n\n",
    "  // Multiply the current result by the loop number\n",
    "  SET factorial TO factorial * i\n",
    "END FOR\n",
    "\n",
    "// 5. Display the final result\n",
    "PRINT \"The factorial of\", n, \"is\", factorial\n",
    "\n",
    "\n",
    "END IF\n",
    "END"
   ]
  },
  {
   "cell_type": "markdown",
   "metadata": {},
   "source": [
    "<!-- Add your pseudocode here -->"
   ]
  },
  {
   "cell_type": "code",
   "execution_count": null,
   "metadata": {},
   "outputs": [],
   "source": [
    "# Add your code solution here\n",
    "# This program calculates the factorial of a given positive integer.\n",
    "\n",
    "def calculate_factorial():\n",
    "    \"\"\"\n",
    "    Asks the user for a positive integer and calculates its factorial.\n",
    "    \"\"\"\n",
    "    \n",
    "    try:\n",
    "        # 1. Get a number from the user\n",
    "        number_input = input(\"Enter a positive integer: \")\n",
    "        n = int(number_input)\n",
    "        \n",
    "        # 2. Handle negative numbers\n",
    "        if n < 0:\n",
    "            print(\"Factorial is not defined for negative numbers.\")\n",
    "            \n",
    "        # 3. Handle the base case (0!)\n",
    "        elif n == 0:\n",
    "            print(\"The factorial of 0 is 1.\")\n",
    "            \n",
    "        # 4. Calculate the factorial for positive numbers\n",
    "        else:\n",
    "            # Initialize the result variable\n",
    "            factorial_result = 1\n",
    "            \n",
    "            # Loop from 1 up to n (inclusive)\n",
    "            # range(1, n + 1) generates numbers 1, 2, 3, ..., n\n",
    "            for i in range(1, n + 1):\n",
    "                # Multiply the current result by the loop number\n",
    "                factorial_result = factorial_result * i\n",
    "            \n",
    "            # 5. Display the final result\n",
    "            print(f\"The factorial of {n} is {factorial_result}\")\n",
    "            \n",
    "    except ValueError:\n",
    "        # Handle cases where the user does not enter a valid integer\n",
    "        print(f\"Error: '{number_input}' is not a valid integer. Please try again.\")\n",
    "\n",
    "# Run the function\n",
    "calculate_factorial()\n"
   ]
  },
  {
   "cell_type": "markdown",
   "metadata": {},
   "source": [
    "### Bonus Exercise 10: FizzBuzz Problem\n",
    "\n",
    "Write pseudocode for the FizzBuzz problem where you print numbers from 1 to N but replace multiples of three with \"Fizz\" and multiples of five with \"Buzz\"."
   ]
  },
  {
   "cell_type": "markdown",
   "metadata": {},
   "source": [
    "BEGIN\n",
    "// 1. Get the upper limit number (N) from the user\n",
    "PRINT \"Enter a number (N) to play FizzBuzz up to:\"\n",
    "READ N\n",
    "\n",
    "// 2. Loop from 1 up to N\n",
    "FOR i FROM 1 TO N\n",
    "\n",
    "// 3. Check for divisibility\n",
    "// Check for both first, as it's the most specific case\n",
    "IF i is divisible by 3 AND i is divisible by 5 THEN\n",
    "  PRINT \"FizzBuzz\"\n",
    "  \n",
    "// Check for 3\n",
    "ELSE IF i is divisible by 3 THEN\n",
    "  PRINT \"Fizz\"\n",
    "  \n",
    "// Check for 5\n",
    "ELSE IF i is divisible by 5 THEN\n",
    "  PRINT \"Buzz\"\n",
    "  \n",
    "// If none of the above, print the number\n",
    "ELSE\n",
    "  PRINT i\n",
    "END IF\n",
    "\n",
    "\n",
    "END FOR\n",
    "END"
   ]
  },
  {
   "cell_type": "markdown",
   "metadata": {},
   "source": [
    "<!-- Add your pseudocode here -->"
   ]
  },
  {
   "cell_type": "code",
   "execution_count": 9,
   "metadata": {},
   "outputs": [
    {
     "name": "stdout",
     "output_type": "stream",
     "text": [
      "--- FizzBuzz from 1 to 7 ---\n",
      "1\n",
      "2\n",
      "Fizz\n",
      "4\n",
      "Buzz\n",
      "Fizz\n",
      "7\n"
     ]
    }
   ],
   "source": [
    "# Add your code solution here\n",
    "# This program runs the FizzBuzz problem up to a number (N)\n",
    "# given by the user.\n",
    "\n",
    "def run_fizzbuzz():\n",
    "    \"\"\"\n",
    "    Asks the user for a number (N) and prints the FizzBuzz\n",
    "    sequence from 1 up to N.\n",
    "    \"\"\"\n",
    "    \n",
    "    try:\n",
    "        # 1. Get the number from the user\n",
    "        number_input = input(\"Enter a positive number (N): \")\n",
    "        N = int(number_input)\n",
    "        \n",
    "        if N <= 0:\n",
    "            print(\"Please enter a positive number greater than 0.\")\n",
    "            return\n",
    "\n",
    "        print(f\"--- FizzBuzz from 1 to {N} ---\")\n",
    "        \n",
    "        # 2. Loop from 1 up to N (inclusive)\n",
    "        for i in range(1, N + 1):\n",
    "            \n",
    "            # 3. Check for divisibility\n",
    "            # We check for multiples of 15 (3 * 5) first,\n",
    "            # as this is the most specific condition.\n",
    "            if i % 15 == 0:\n",
    "                print(\"FizzBuzz\")\n",
    "            \n",
    "            # Check for multiples of 3\n",
    "            elif i % 3 == 0:\n",
    "                print(\"Fizz\")\n",
    "            \n",
    "            # Check for multiples of 5\n",
    "            elif i % 5 == 0:\n",
    "                print(\"Buzz\")\n",
    "                \n",
    "            # If none of the above, print the number\n",
    "            else:\n",
    "                print(i)\n",
    "\n",
    "    except ValueError:\n",
    "        # Handle cases where the user does not enter a valid integer\n",
    "        print(f\"Error: '{number_input}' is not a valid integer. Please try again.\")\n",
    "\n",
    "# Run the function\n",
    "run_fizzbuzz()\n"
   ]
  }
 ],
 "metadata": {
  "kernelspec": {
   "display_name": "Python 3",
   "language": "python",
   "name": "python3"
  },
  "language_info": {
   "codemirror_mode": {
    "name": "ipython",
    "version": 3
   },
   "file_extension": ".py",
   "mimetype": "text/x-python",
   "name": "python",
   "nbconvert_exporter": "python",
   "pygments_lexer": "ipython3",
   "version": "3.10.6"
  }
 },
 "nbformat": 4,
 "nbformat_minor": 2
}
